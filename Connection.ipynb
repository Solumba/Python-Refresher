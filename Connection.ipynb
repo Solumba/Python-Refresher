{
 "cells": [
  {
   "cell_type": "code",
   "execution_count": 135,
   "metadata": {},
   "outputs": [
    {
     "ename": "NameError",
     "evalue": "name 'np' is not defined",
     "output_type": "error",
     "traceback": [
      "\u001b[1;31m---------------------------------------------------------------------------\u001b[0m",
      "\u001b[1;31mNameError\u001b[0m                                 Traceback (most recent call last)",
      "Cell \u001b[1;32mIn[135], line 37\u001b[0m\n\u001b[0;32m     34\u001b[0m backbone_range \u001b[38;5;241m=\u001b[39m \u001b[38;5;241m50\u001b[39m  \u001b[38;5;66;03m# Communication range of the backbone UAV\u001b[39;00m\n\u001b[0;32m     36\u001b[0m \u001b[38;5;66;03m# Add the backbone UAV and ground station to the network\u001b[39;00m\n\u001b[1;32m---> 37\u001b[0m uav_network \u001b[38;5;241m=\u001b[39m \u001b[43madd_backbone_uav\u001b[49m\u001b[43m(\u001b[49m\u001b[43muav_network\u001b[49m\u001b[43m,\u001b[49m\u001b[43m \u001b[49m\u001b[43mground_station_pos\u001b[49m\u001b[43m,\u001b[49m\u001b[43m \u001b[49m\u001b[43mbackbone_range\u001b[49m\u001b[43m)\u001b[49m\n\u001b[0;32m     39\u001b[0m \u001b[38;5;66;03m# Visualize the updated network with backbone UAV and ground station\u001b[39;00m\n\u001b[0;32m     40\u001b[0m pos_with_backbone \u001b[38;5;241m=\u001b[39m nx\u001b[38;5;241m.\u001b[39mget_node_attributes(uav_network, \u001b[38;5;124m'\u001b[39m\u001b[38;5;124mpos\u001b[39m\u001b[38;5;124m'\u001b[39m)\n",
      "Cell \u001b[1;32mIn[135], line 23\u001b[0m, in \u001b[0;36madd_backbone_uav\u001b[1;34m(G, ground_station_pos, backbone_range)\u001b[0m\n\u001b[0;32m     20\u001b[0m pos_backbone \u001b[38;5;241m=\u001b[39m G\u001b[38;5;241m.\u001b[39mnodes[backbone_uav_id][\u001b[38;5;124m'\u001b[39m\u001b[38;5;124mpos\u001b[39m\u001b[38;5;124m'\u001b[39m]\n\u001b[0;32m     21\u001b[0m pos_node \u001b[38;5;241m=\u001b[39m G\u001b[38;5;241m.\u001b[39mnodes[node][\u001b[38;5;124m'\u001b[39m\u001b[38;5;124mpos\u001b[39m\u001b[38;5;124m'\u001b[39m]\n\u001b[1;32m---> 23\u001b[0m distance \u001b[38;5;241m=\u001b[39m \u001b[43mnp\u001b[49m\u001b[38;5;241m.\u001b[39mlinalg\u001b[38;5;241m.\u001b[39mnorm(np\u001b[38;5;241m.\u001b[39marray(pos_backbone) \u001b[38;5;241m-\u001b[39m np\u001b[38;5;241m.\u001b[39marray(pos_node))\n\u001b[0;32m     24\u001b[0m \u001b[38;5;28;01mif\u001b[39;00m distance \u001b[38;5;241m<\u001b[39m\u001b[38;5;241m=\u001b[39m backbone_range:\n\u001b[0;32m     25\u001b[0m     G\u001b[38;5;241m.\u001b[39madd_edge(backbone_uav_id, node, weight\u001b[38;5;241m=\u001b[39mdistance)\n",
      "\u001b[1;31mNameError\u001b[0m: name 'np' is not defined"
     ]
    }
   ],
   "source": [
    "def add_backbone_uav(G, ground_station_pos, backbone_range):\n",
    "    \"\"\"\n",
    "    Add a backbone UAV and a ground station to the network.\n",
    "    :param G: The UAV network graph.\n",
    "    :param ground_station_pos: Position of the ground station.\n",
    "    :param backbone_range: Communication range of the backbone UAV.\n",
    "    :return: The modified graph with the backbone UAV and ground station added.\n",
    "    \"\"\"\n",
    "    num_uavs = len(G.nodes)\n",
    "    backbone_uav_id = num_uavs  # Assign a unique ID to the backbone UAV\n",
    "    ground_station_id = num_uavs + 1  # Assign a unique ID to the ground station\n",
    "\n",
    "    # Add the backbone UAV and ground station to the graph\n",
    "    G.add_node(backbone_uav_id, pos=(random.randint(0, 100), random.randint(0, 100)), is_backbone=True)\n",
    "    G.add_node(ground_station_id, pos=ground_station_pos, is_ground_station=True)\n",
    "\n",
    "    # Connect the backbone UAV to UAVs within its range\n",
    "    for node in G.nodes:\n",
    "        if node != backbone_uav_id and node != ground_station_id:\n",
    "            pos_backbone = G.nodes[backbone_uav_id]['pos']\n",
    "            pos_node = G.nodes[node]['pos']\n",
    "\n",
    "            distance = np.linalg.norm(np.array(pos_backbone) - np.array(pos_node))\n",
    "            if distance <= backbone_range:\n",
    "                G.add_edge(backbone_uav_id, node, weight=distance)\n",
    "\n",
    "    # Connect the backbone UAV to the ground station\n",
    "    G.add_edge(backbone_uav_id, ground_station_id)\n",
    "\n",
    "    return G\n",
    "\n",
    "# Define parameters for the backbone UAV and ground station\n",
    "ground_station_pos = (50, 50)  # Central location for simplicity\n",
    "backbone_range = 50  # Communication range of the backbone UAV\n",
    "\n",
    "# Add the backbone UAV and ground station to the network\n",
    "uav_network = add_backbone_uav(uav_network, ground_station_pos, backbone_range)\n",
    "\n",
    "# Visualize the updated network with backbone UAV and ground station\n",
    "pos_with_backbone = nx.get_node_attributes(uav_network, 'pos')\n",
    "nx.draw(uav_network, pos_with_backbone, with_labels=True, node_color='lightblue', edge_color='gray', node_size=500)\n",
    "nx.draw_networkx_nodes(uav_network, pos_with_backbone, nodelist=[len(pos_with_backbone) - 2], node_color='green')  # Backbone UAV\n",
    "nx.draw_networkx_nodes(uav_network, pos_with_backbone, nodelist=[len(pos_with_backbone) - 1], node_color='red')    # Ground Station\n",
    "plt.title(\"UAV Network with Backbone UAV and Ground Station\")\n",
    "plt.show()\n"
   ]
  },
  {
   "cell_type": "code",
   "execution_count": 134,
   "metadata": {},
   "outputs": [
    {
     "ename": "NameError",
     "evalue": "name 'np' is not defined",
     "output_type": "error",
     "traceback": [
      "\u001b[1;31m---------------------------------------------------------------------------\u001b[0m",
      "\u001b[1;31mNameError\u001b[0m                                 Traceback (most recent call last)",
      "Cell \u001b[1;32mIn[134], line 37\u001b[0m\n\u001b[0;32m     34\u001b[0m backbone_range \u001b[38;5;241m=\u001b[39m \u001b[38;5;241m50\u001b[39m  \u001b[38;5;66;03m# Communication range of the backbone UAV\u001b[39;00m\n\u001b[0;32m     36\u001b[0m \u001b[38;5;66;03m# Add the backbone UAV and ground station to the network\u001b[39;00m\n\u001b[1;32m---> 37\u001b[0m uav_network \u001b[38;5;241m=\u001b[39m \u001b[43madd_backbone_uav\u001b[49m\u001b[43m(\u001b[49m\u001b[43muav_network\u001b[49m\u001b[43m,\u001b[49m\u001b[43m \u001b[49m\u001b[43mground_station_pos\u001b[49m\u001b[43m,\u001b[49m\u001b[43m \u001b[49m\u001b[43mbackbone_range\u001b[49m\u001b[43m)\u001b[49m\n\u001b[0;32m     39\u001b[0m \u001b[38;5;66;03m# Visualize the updated network with backbone UAV and ground station\u001b[39;00m\n\u001b[0;32m     40\u001b[0m pos_with_backbone \u001b[38;5;241m=\u001b[39m nx\u001b[38;5;241m.\u001b[39mget_node_attributes(uav_network, \u001b[38;5;124m'\u001b[39m\u001b[38;5;124mpos\u001b[39m\u001b[38;5;124m'\u001b[39m)\n",
      "Cell \u001b[1;32mIn[134], line 23\u001b[0m, in \u001b[0;36madd_backbone_uav\u001b[1;34m(G, ground_station_pos, backbone_range)\u001b[0m\n\u001b[0;32m     20\u001b[0m pos_backbone \u001b[38;5;241m=\u001b[39m G\u001b[38;5;241m.\u001b[39mnodes[backbone_uav_id][\u001b[38;5;124m'\u001b[39m\u001b[38;5;124mpos\u001b[39m\u001b[38;5;124m'\u001b[39m]\n\u001b[0;32m     21\u001b[0m pos_node \u001b[38;5;241m=\u001b[39m G\u001b[38;5;241m.\u001b[39mnodes[node][\u001b[38;5;124m'\u001b[39m\u001b[38;5;124mpos\u001b[39m\u001b[38;5;124m'\u001b[39m]\n\u001b[1;32m---> 23\u001b[0m distance \u001b[38;5;241m=\u001b[39m \u001b[43mnp\u001b[49m\u001b[38;5;241m.\u001b[39mlinalg\u001b[38;5;241m.\u001b[39mnorm(np\u001b[38;5;241m.\u001b[39marray(pos_backbone) \u001b[38;5;241m-\u001b[39m np\u001b[38;5;241m.\u001b[39marray(pos_node))\n\u001b[0;32m     24\u001b[0m \u001b[38;5;28;01mif\u001b[39;00m distance \u001b[38;5;241m<\u001b[39m\u001b[38;5;241m=\u001b[39m backbone_range:\n\u001b[0;32m     25\u001b[0m     G\u001b[38;5;241m.\u001b[39madd_edge(backbone_uav_id, node, weight\u001b[38;5;241m=\u001b[39mdistance)\n",
      "\u001b[1;31mNameError\u001b[0m: name 'np' is not defined"
     ]
    }
   ],
   "source": [
    "def add_backbone_uav(G, ground_station_pos, backbone_range):\n",
    "    \"\"\"\n",
    "    Add a backbone UAV and a ground station to the network.\n",
    "    :param G: The UAV network graph.\n",
    "    :param ground_station_pos: Position of the ground station.\n",
    "    :param backbone_range: Communication range of the backbone UAV.\n",
    "    :return: The modified graph with the backbone UAV and ground station added.\n",
    "    \"\"\"\n",
    "    num_uavs = len(G.nodes)\n",
    "    backbone_uav_id = num_uavs  # Assign a unique ID to the backbone UAV\n",
    "    ground_station_id = num_uavs + 1  # Assign a unique ID to the ground station\n",
    "\n",
    "    # Add the backbone UAV and ground station to the graph\n",
    "    G.add_node(backbone_uav_id, pos=(random.randint(0, 100), random.randint(0, 100)), is_backbone=True)\n",
    "    G.add_node(ground_station_id, pos=ground_station_pos, is_ground_station=True)\n",
    "\n",
    "    # Connect the backbone UAV to UAVs within its range\n",
    "    for node in G.nodes:\n",
    "        if node != backbone_uav_id and node != ground_station_id:\n",
    "            pos_backbone = G.nodes[backbone_uav_id]['pos']\n",
    "            pos_node = G.nodes[node]['pos']\n",
    "\n",
    "            distance = np.linalg.norm(np.array(pos_backbone) - np.array(pos_node))\n",
    "            if distance <= backbone_range:\n",
    "                G.add_edge(backbone_uav_id, node, weight=distance)\n",
    "\n",
    "    # Connect the backbone UAV to the ground station\n",
    "    G.add_edge(backbone_uav_id, ground_station_id)\n",
    "\n",
    "    return G\n",
    "\n",
    "# Define parameters for the backbone UAV and ground station\n",
    "ground_station_pos = (50, 50)  # Central location for simplicity\n",
    "backbone_range = 50  # Communication range of the backbone UAV\n",
    "\n",
    "# Add the backbone UAV and ground station to the network\n",
    "uav_network = add_backbone_uav(uav_network, ground_station_pos, backbone_range)\n",
    "\n",
    "# Visualize the updated network with backbone UAV and ground station\n",
    "pos_with_backbone = nx.get_node_attributes(uav_network, 'pos')\n",
    "nx.draw(uav_network, pos_with_backbone, with_labels=True, node_color='lightblue', edge_color='gray', node_size=500)\n",
    "nx.draw_networkx_nodes(uav_network, pos_with_backbone, nodelist=[len(pos_with_backbone) - 2], node_color='green')  # Backbone UAV\n",
    "nx.draw_networkx_nodes(uav_network, pos_with_backbone, nodelist=[len(pos_with_backbone) - 1], node_color='red')    # Ground Station\n",
    "plt.title(\"UAV Network with Backbone UAV and Ground Station\")\n",
    "plt.show()\n"
   ]
  }
 ],
 "metadata": {
  "kernelspec": {
   "display_name": "Python 3",
   "language": "python",
   "name": "python3"
  },
  "language_info": {
   "name": "python",
   "version": "3.10.11"
  }
 },
 "nbformat": 4,
 "nbformat_minor": 2
}
