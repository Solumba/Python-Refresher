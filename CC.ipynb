{
 "cells": [
  {
   "cell_type": "code",
   "execution_count": 15,
   "metadata": {},
   "outputs": [
    {
     "name": "stdout",
     "output_type": "stream",
     "text": [
      "Austin\n",
      "Dave\n",
      "John\n",
      "Lancelot\n",
      "Merlin\n",
      "Ola\n",
      "Samuel\n"
     ]
    }
   ],
   "source": [
    "from neo4j import GraphDatabase, RoutingControl\n",
    "\n",
    "\n",
    "URI = \"neo4j://localhost:7687\"\n",
    "AUTH = (\"neo4j\", \"Shady5000$\")\n",
    "\n",
    "\n",
    "def add_friend(driver, name, friend_name):\n",
    "    driver.execute_query(\n",
    "        \"MERGE (a:Person {name: $name}) \"\n",
    "        \"MERGE (friend:Person {name: $friend_name}) \"\n",
    "        \"MERGE (a)-[:KNOWS]->(friend)\",\n",
    "        name=name, friend_name=friend_name, database_=\"uavgraph\",\n",
    "    )\n",
    "\n",
    "\n",
    "def print_friends(driver, name):\n",
    "    records, _, _ = driver.execute_query(\n",
    "        \"MATCH (a:Person)-[:KNOWS]->(friend) WHERE a.name = $name \"\n",
    "        \"RETURN friend.name ORDER BY friend.name\",\n",
    "        name=name, database_=\"uavgraph\", routing_=RoutingControl.READ,\n",
    "    )\n",
    "    for record in records:\n",
    "        print(record[\"friend.name\"])\n",
    "\n",
    "\n",
    "with GraphDatabase.driver(URI, auth=AUTH) as driver:\n",
    "    # add_friend(driver, \"Arthur\", \"Guinevere\")\n",
    "    add_friend(driver, \"Arthur\", \"Austin\")\n",
    "    # add_friend(driver, \"Arthur\", \"Merlin\")\n",
    "    print_friends(driver, \"Arthur\")"
   ]
  }
 ],
 "metadata": {
  "kernelspec": {
   "display_name": "Python 3",
   "language": "python",
   "name": "python3"
  },
  "language_info": {
   "codemirror_mode": {
    "name": "ipython",
    "version": 3
   },
   "file_extension": ".py",
   "mimetype": "text/x-python",
   "name": "python",
   "nbconvert_exporter": "python",
   "pygments_lexer": "ipython3",
   "version": "3.10.11"
  }
 },
 "nbformat": 4,
 "nbformat_minor": 2
}
