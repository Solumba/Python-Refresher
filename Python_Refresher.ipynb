{
 "cells": [
  {
   "cell_type": "markdown",
   "id": "50c3265e-5fe7-4f02-a63a-4c46a1ecd59d",
   "metadata": {},
   "source": [
    "It is Good practice to space words when naming variables and functions in python.\n",
    "String concatenation can only be done between strings except the chosen item to concatenate is beingconverted to a string using a method called type casting.\n",
    "Data types can be illustrated below;\n"
   ]
  },
  {
   "cell_type": "code",
   "execution_count": 1,
   "id": "44c9bb69-879f-4535-95d2-ee045e17a3ca",
   "metadata": {
    "tags": []
   },
   "outputs": [],
   "source": [
    "first_name= 'Samuel' #string\n",
    "last_name = 'Olumba'#string\n",
    "age = 31 #integer\n",
    "weight = 194.1 #float\n",
    "a_boolean = true\n",
    "another_boolean = false"
   ]
  },
  {
   "cell_type": "code",
   "execution_count": 3,
   "id": "29acc552-5b66-4237-8e64-8dce9dc5ec07",
   "metadata": {
    "tags": []
   },
   "outputs": [
    {
     "name": "stdout",
     "output_type": "stream",
     "text": [
      "<class 'str'>\n"
     ]
    }
   ],
   "source": [
    "print (type(last_name))"
   ]
  },
  {
   "cell_type": "markdown",
   "id": "819f1dbf-0da7-4bce-aeeb-1ea026d7c858",
   "metadata": {},
   "source": [
    "Multiple assignments allows you to assign the same or different values to multiple variables, using one line of code;"
   ]
  },
  {
   "cell_type": "code",
   "execution_count": 5,
   "id": "879d2f34-6971-4865-bf4c-9b0be673f7db",
   "metadata": {
    "tags": []
   },
   "outputs": [
    {
     "name": "stdout",
     "output_type": "stream",
     "text": [
      "20 22\n"
     ]
    }
   ],
   "source": [
    "number_one, number_two = 20, 22\n",
    "print(number_one, number_two)"
   ]
  },
  {
   "cell_type": "code",
   "execution_count": 7,
   "id": "e0fa3e07-3d46-44d9-8f7a-72f460f85bd2",
   "metadata": {
    "tags": []
   },
   "outputs": [
    {
     "name": "stdout",
     "output_type": "stream",
     "text": [
      "20 20\n"
     ]
    }
   ],
   "source": [
    "number_one = number_two = 20\n",
    "print(number_one, number_two)"
   ]
  },
  {
   "cell_type": "code",
   "execution_count": 3,
   "id": "d64e2483-2556-4115-a321-a0a2c79ba31d",
   "metadata": {},
   "outputs": [
    {
     "name": "stdout",
     "output_type": "stream",
     "text": [
      "<class 'int'>\n"
     ]
    }
   ],
   "source": [
    "input_number = input(\"give a number: \") \n",
    "input_number = int(input_number)\n",
    "print (type (input_number))"
   ]
  },
  {
   "cell_type": "markdown",
   "id": "d0c0410e",
   "metadata": {},
   "source": [
    "There are different math methods which can be used in python. see documentation for full list"
   ]
  },
  {
   "cell_type": "code",
   "execution_count": 4,
   "id": "22e40bca",
   "metadata": {},
   "outputs": [
    {
     "name": "stdout",
     "output_type": "stream",
     "text": [
      "10.0\n"
     ]
    }
   ],
   "source": [
    "import math\n",
    "my_number = 100\n",
    "print(math.sqrt(my_number))"
   ]
  },
  {
   "cell_type": "markdown",
   "id": "ed2c3951",
   "metadata": {},
   "source": [
    "String slicing is used to create a substring by extracting elements from another string\n",
    "by using [] for indexing and () for slicing. \n",
    "See example below"
   ]
  },
  {
   "cell_type": "code",
   "execution_count": 15,
   "id": "9dcd94b0",
   "metadata": {},
   "outputs": [
    {
     "name": "stdout",
     "output_type": "stream",
     "text": [
      "Om\n"
     ]
    }
   ],
   "source": [
    "full_name = 'Solomon Olumba'\n",
    "sub_string = full_name[8:15:3]\n",
    "print(sub_string)"
   ]
  },
  {
   "cell_type": "code",
   "execution_count": 4,
   "id": "528227d9",
   "metadata": {},
   "outputs": [
    {
     "name": "stdout",
     "output_type": "stream",
     "text": [
      "youtube\n",
      "google\n"
     ]
    }
   ],
   "source": [
    "website1 = \"http://youtube.com\"\n",
    "website2 = \"http://google.com\"\n",
    "\n",
    "#each string has a positive and negative index, which start at the beginning and end of each string\n",
    "#that way we can count the index back wards and use it as our stop point since all website names wont have same length\n",
    "slicer = slice(7,-4)\n",
    "\n",
    "print(website1[slicer])\n",
    "print(website2[slicer])"
   ]
  },
  {
   "cell_type": "markdown",
   "id": "9b43a160",
   "metadata": {},
   "source": [
    "Control flow; if, else, elif"
   ]
  },
  {
   "cell_type": "code",
   "execution_count": 12,
   "id": "f0e13d63",
   "metadata": {},
   "outputs": [
    {
     "name": "stdout",
     "output_type": "stream",
     "text": [
      "dont drink alcohol\n"
     ]
    }
   ],
   "source": [
    "my_age = int(input(\"How old are you: \"))\n",
    "\n",
    "if my_age > 18:\n",
    "    print(\"drink alcohol\")\n",
    "elif my_age == 18:\n",
    "    print(\"you just met the age limit, have a drink!!\")\n",
    "else:\n",
    "    print(\"dont drink alcohol\")"
   ]
  },
  {
   "cell_type": "markdown",
   "id": "22959d4f",
   "metadata": {},
   "source": [
    "logical operators are used to check if two or more statements are true\n",
    "(and, not, or)"
   ]
  },
  {
   "cell_type": "code",
   "execution_count": 14,
   "id": "b2340af7",
   "metadata": {},
   "outputs": [
    {
     "name": "stdout",
     "output_type": "stream",
     "text": [
      "drink alcohol\n"
     ]
    }
   ],
   "source": [
    "my_age = int(input(\"How old are you: \"))\n",
    "\n",
    "if my_age > 18 and my_age <60:\n",
    "    print(\"drink alcohol\")\n",
    "elif not my_age == 61:\n",
    "    print(\"you just met the age limit, have a drink!!\")\n",
    "else:\n",
    "    print(\"dont drink alcohol\")"
   ]
  },
  {
   "cell_type": "markdown",
   "id": "30a25de0",
   "metadata": {},
   "source": [
    "While loops in python. While loops executes blocks of code while a condition remains true."
   ]
  },
  {
   "cell_type": "code",
   "execution_count": null,
   "id": "7abdfbc6",
   "metadata": {},
   "outputs": [],
   "source": []
  }
 ],
 "metadata": {
  "kernelspec": {
   "display_name": "Python 3 (ipykernel)",
   "language": "python",
   "name": "python3"
  },
  "language_info": {
   "codemirror_mode": {
    "name": "ipython",
    "version": 3
   },
   "file_extension": ".py",
   "mimetype": "text/x-python",
   "name": "python",
   "nbconvert_exporter": "python",
   "pygments_lexer": "ipython3",
   "version": "3.10.11"
  }
 },
 "nbformat": 4,
 "nbformat_minor": 5
}
